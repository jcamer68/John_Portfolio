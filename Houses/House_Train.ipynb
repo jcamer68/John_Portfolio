{
  "nbformat": 4,
  "nbformat_minor": 0,
  "metadata": {
    "colab": {
      "name": "House_Train.ipynb",
      "provenance": []
    },
    "kernelspec": {
      "name": "python3",
      "display_name": "Python 3"
    }
  },
  "cells": [
    {
      "cell_type": "markdown",
      "metadata": {
        "id": "1SIDpEmy4Dr5",
        "colab_type": "text"
      },
      "source": [
        "##Import Libraries "
      ]
    },
    {
      "cell_type": "code",
      "metadata": {
        "id": "026kFLpw2LBk",
        "colab_type": "code",
        "colab": {}
      },
      "source": [
        "import pandas as pd \n",
        "import numpy as np\n",
        "import matplotlib.pyplot as plt\n",
        "import matplotlib.pyplot as plt; plt.rcdefaults()\n",
        "import math"
      ],
      "execution_count": 80,
      "outputs": []
    },
    {
      "cell_type": "markdown",
      "metadata": {
        "id": "SLbuDwlV4Fhn",
        "colab_type": "text"
      },
      "source": [
        "##Import Dataset"
      ]
    },
    {
      "cell_type": "code",
      "metadata": {
        "id": "8f2SHD6r4JmE",
        "colab_type": "code",
        "colab": {
          "base_uri": "https://localhost:8080/",
          "height": 54
        },
        "outputId": "fffd4134-95ac-4dbb-dcfa-468ba87530b4"
      },
      "source": [
        "training = pd.read_csv('train.csv')\n",
        "training.head()\n",
        "training = training.select_dtypes(exclude=['string'])\n",
        "training = training.drop(['Id'], axis=1)\n",
        "\n",
        "missing_cols_train = [col for col in training.columns if training[col].isnull().any()]\n",
        "print(missing_cols_train)\n",
        "\n",
        "training = training.drop(missing_cols_train, axis=1)\n",
        "\n",
        "\n",
        "#training.tail()"
      ],
      "execution_count": 35,
      "outputs": [
        {
          "output_type": "stream",
          "text": [
            "['LotFrontage', 'Alley', 'MasVnrType', 'MasVnrArea', 'BsmtQual', 'BsmtCond', 'BsmtExposure', 'BsmtFinType1', 'BsmtFinType2', 'Electrical', 'FireplaceQu', 'GarageType', 'GarageYrBlt', 'GarageFinish', 'GarageQual', 'GarageCond', 'PoolQC', 'Fence', 'MiscFeature']\n"
          ],
          "name": "stdout"
        }
      ]
    },
    {
      "cell_type": "markdown",
      "metadata": {
        "id": "p4ibtMmJ439r",
        "colab_type": "text"
      },
      "source": [
        "##Determining categorical variables"
      ]
    },
    {
      "cell_type": "code",
      "metadata": {
        "id": "016NwO5C46di",
        "colab_type": "code",
        "colab": {
          "base_uri": "https://localhost:8080/",
          "height": 309
        },
        "outputId": "dd5dbaad-a0c4-411e-dd81-27379e0f41ea"
      },
      "source": [
        "s = (training.dtypes == 'object')\n",
        "#s = (training.dtypes == 'object' and training.dtypes == 'string')\n",
        "object_cols_train = list(s[s].index)\n",
        "\n",
        "print(training.columns)\n",
        "\n",
        "print('Categorical variables:')\n",
        "print(object_cols_train)"
      ],
      "execution_count": 36,
      "outputs": [
        {
          "output_type": "stream",
          "text": [
            "Index(['MSSubClass', 'MSZoning', 'LotArea', 'Street', 'LotShape',\n",
            "       'LandContour', 'Utilities', 'LotConfig', 'LandSlope', 'Neighborhood',\n",
            "       'Condition1', 'Condition2', 'BldgType', 'HouseStyle', 'OverallQual',\n",
            "       'OverallCond', 'YearBuilt', 'YearRemodAdd', 'RoofStyle', 'RoofMatl',\n",
            "       'Exterior1st', 'Exterior2nd', 'ExterQual', 'ExterCond', 'Foundation',\n",
            "       'BsmtFinSF1', 'BsmtFinSF2', 'BsmtUnfSF', 'TotalBsmtSF', 'Heating',\n",
            "       'HeatingQC', 'CentralAir', '1stFlrSF', '2ndFlrSF', 'LowQualFinSF',\n",
            "       'GrLivArea', 'BsmtFullBath', 'BsmtHalfBath', 'FullBath', 'HalfBath',\n",
            "       'BedroomAbvGr', 'KitchenAbvGr', 'KitchenQual', 'TotRmsAbvGrd',\n",
            "       'Functional', 'Fireplaces', 'GarageCars', 'GarageArea', 'PavedDrive',\n",
            "       'WoodDeckSF', 'OpenPorchSF', 'EnclosedPorch', '3SsnPorch',\n",
            "       'ScreenPorch', 'PoolArea', 'MiscVal', 'MoSold', 'YrSold', 'SaleType',\n",
            "       'SaleCondition', 'SalePrice'],\n",
            "      dtype='object')\n",
            "Categorical variables:\n",
            "['MSZoning', 'Street', 'LotShape', 'LandContour', 'Utilities', 'LotConfig', 'LandSlope', 'Neighborhood', 'Condition1', 'Condition2', 'BldgType', 'HouseStyle', 'RoofStyle', 'RoofMatl', 'Exterior1st', 'Exterior2nd', 'ExterQual', 'ExterCond', 'Foundation', 'Heating', 'HeatingQC', 'CentralAir', 'KitchenQual', 'Functional', 'PavedDrive', 'SaleType', 'SaleCondition']\n"
          ],
          "name": "stdout"
        }
      ]
    },
    {
      "cell_type": "markdown",
      "metadata": {
        "id": "uFmq3ab45OtT",
        "colab_type": "text"
      },
      "source": [
        "##One Hot Encoder "
      ]
    },
    {
      "cell_type": "code",
      "metadata": {
        "id": "6pLhF9PX5RyS",
        "colab_type": "code",
        "colab": {
          "base_uri": "https://localhost:8080/",
          "height": 255
        },
        "outputId": "b2a57611-292f-477f-e5b1-a270f2759fc6"
      },
      "source": [
        "from sklearn.preprocessing import OneHotEncoder\n",
        "\n",
        "OH_encoder = OneHotEncoder(handle_unknown='ignore', sparse=False)\n",
        "OH_cols = pd.DataFrame(OH_encoder.fit_transform(training[object_cols_train]))\n",
        "\n",
        "OH_cols.index = training.index\n",
        "\n",
        "num_training = training.drop(object_cols_train, axis=1)\n",
        "\n",
        "money = training.SalePrice\n",
        "training = training.drop(['SalePrice'], axis=1)\n",
        "\n",
        "training = pd.concat([num_training, OH_cols], axis=1)\n",
        "\n",
        "training = pd.concat([training, money], axis=1)\n",
        "print(training)"
      ],
      "execution_count": 37,
      "outputs": [
        {
          "output_type": "stream",
          "text": [
            "      MSSubClass  LotArea  OverallQual  OverallCond  ...  179  180  181  SalePrice\n",
            "0             60     8450            7            5  ...  0.0  1.0  0.0     208500\n",
            "1             20     9600            6            8  ...  0.0  1.0  0.0     181500\n",
            "2             60    11250            7            5  ...  0.0  1.0  0.0     223500\n",
            "3             70     9550            7            5  ...  0.0  0.0  0.0     140000\n",
            "4             60    14260            8            5  ...  0.0  1.0  0.0     250000\n",
            "...          ...      ...          ...          ...  ...  ...  ...  ...        ...\n",
            "1455          60     7917            6            5  ...  0.0  1.0  0.0     175000\n",
            "1456          20    13175            6            6  ...  0.0  1.0  0.0     210000\n",
            "1457          70     9042            7            9  ...  0.0  1.0  0.0     266500\n",
            "1458          20     9717            5            6  ...  0.0  1.0  0.0     142125\n",
            "1459          20     9937            5            6  ...  0.0  1.0  0.0     147500\n",
            "\n",
            "[1460 rows x 217 columns]\n"
          ],
          "name": "stdout"
        }
      ]
    },
    {
      "cell_type": "markdown",
      "metadata": {
        "id": "pbRSixbU52cu",
        "colab_type": "text"
      },
      "source": [
        "##Splitting Data"
      ]
    },
    {
      "cell_type": "code",
      "metadata": {
        "id": "DLRP4blP6Eb8",
        "colab_type": "code",
        "colab": {}
      },
      "source": [
        "X = training.iloc[:,:-1].values\n",
        "y = training.iloc[:,-1].values"
      ],
      "execution_count": 38,
      "outputs": []
    },
    {
      "cell_type": "code",
      "metadata": {
        "id": "qmZE2RGG54uk",
        "colab_type": "code",
        "colab": {}
      },
      "source": [
        "from sklearn.model_selection import train_test_split\n",
        "X_train, X_test, y_train, y_test = train_test_split(X, y, train_size=0.8, test_size = 0.2, random_state = 0)"
      ],
      "execution_count": 39,
      "outputs": []
    },
    {
      "cell_type": "markdown",
      "metadata": {
        "id": "P1zTe0um6Ms7",
        "colab_type": "text"
      },
      "source": [
        "##Training Models \n",
        "\n",
        "1. Support Vector Regression\n",
        "2. Decision Tree Regression\n",
        "3. Random Forest Regression\n",
        "4. XGBoost"
      ]
    },
    {
      "cell_type": "code",
      "metadata": {
        "id": "pwUXpfGttS3N",
        "colab_type": "code",
        "colab": {
          "base_uri": "https://localhost:8080/",
          "height": 51
        },
        "outputId": "1c02250f-a022-4a1b-c010-3830291f7b85"
      },
      "source": [
        "from sklearn.svm import SVR\n",
        "model1 = SVR(kernel = 'rbf')\n",
        "model1.fit(X_train, y_train)"
      ],
      "execution_count": 40,
      "outputs": [
        {
          "output_type": "execute_result",
          "data": {
            "text/plain": [
              "SVR(C=1.0, cache_size=200, coef0=0.0, degree=3, epsilon=0.1, gamma='scale',\n",
              "    kernel='rbf', max_iter=-1, shrinking=True, tol=0.001, verbose=False)"
            ]
          },
          "metadata": {
            "tags": []
          },
          "execution_count": 40
        }
      ]
    },
    {
      "cell_type": "code",
      "metadata": {
        "id": "QDAEKPikuIro",
        "colab_type": "code",
        "colab": {
          "base_uri": "https://localhost:8080/",
          "height": 119
        },
        "outputId": "94519afc-f2bc-4a82-8497-05536f09b3ec"
      },
      "source": [
        "from sklearn.tree import DecisionTreeRegressor\n",
        "model2 = DecisionTreeRegressor(random_state = 0)\n",
        "model2.fit(X_train, y_train)"
      ],
      "execution_count": 41,
      "outputs": [
        {
          "output_type": "execute_result",
          "data": {
            "text/plain": [
              "DecisionTreeRegressor(ccp_alpha=0.0, criterion='mse', max_depth=None,\n",
              "                      max_features=None, max_leaf_nodes=None,\n",
              "                      min_impurity_decrease=0.0, min_impurity_split=None,\n",
              "                      min_samples_leaf=1, min_samples_split=2,\n",
              "                      min_weight_fraction_leaf=0.0, presort='deprecated',\n",
              "                      random_state=0, splitter='best')"
            ]
          },
          "metadata": {
            "tags": []
          },
          "execution_count": 41
        }
      ]
    },
    {
      "cell_type": "code",
      "metadata": {
        "id": "z9NSaU9rvGCS",
        "colab_type": "code",
        "colab": {
          "base_uri": "https://localhost:8080/",
          "height": 136
        },
        "outputId": "166da28e-fe43-430e-a7d4-6d706420fa03"
      },
      "source": [
        "from sklearn.ensemble import RandomForestRegressor\n",
        "model3 = RandomForestRegressor(n_estimators = 10, random_state = 0)\n",
        "model3.fit(X_train, y_train)"
      ],
      "execution_count": 42,
      "outputs": [
        {
          "output_type": "execute_result",
          "data": {
            "text/plain": [
              "RandomForestRegressor(bootstrap=True, ccp_alpha=0.0, criterion='mse',\n",
              "                      max_depth=None, max_features='auto', max_leaf_nodes=None,\n",
              "                      max_samples=None, min_impurity_decrease=0.0,\n",
              "                      min_impurity_split=None, min_samples_leaf=1,\n",
              "                      min_samples_split=2, min_weight_fraction_leaf=0.0,\n",
              "                      n_estimators=10, n_jobs=None, oob_score=False,\n",
              "                      random_state=0, verbose=0, warm_start=False)"
            ]
          },
          "metadata": {
            "tags": []
          },
          "execution_count": 42
        }
      ]
    },
    {
      "cell_type": "code",
      "metadata": {
        "id": "Xoe6a9eL6PJi",
        "colab_type": "code",
        "colab": {
          "base_uri": "https://localhost:8080/",
          "height": 173
        },
        "outputId": "e1c78783-c9bf-4305-bc5b-93a1193a167c"
      },
      "source": [
        "from xgboost import XGBRegressor as xgb\n",
        "model4 = xgb(n_estimators=1000, learning_rate=0.1)\n",
        "model4.fit(X_train, y_train)"
      ],
      "execution_count": 43,
      "outputs": [
        {
          "output_type": "stream",
          "text": [
            "[02:26:11] WARNING: /workspace/src/objective/regression_obj.cu:152: reg:linear is now deprecated in favor of reg:squarederror.\n"
          ],
          "name": "stdout"
        },
        {
          "output_type": "execute_result",
          "data": {
            "text/plain": [
              "XGBRegressor(base_score=0.5, booster='gbtree', colsample_bylevel=1,\n",
              "             colsample_bynode=1, colsample_bytree=1, gamma=0,\n",
              "             importance_type='gain', learning_rate=0.1, max_delta_step=0,\n",
              "             max_depth=3, min_child_weight=1, missing=None, n_estimators=1000,\n",
              "             n_jobs=1, nthread=None, objective='reg:linear', random_state=0,\n",
              "             reg_alpha=0, reg_lambda=1, scale_pos_weight=1, seed=None,\n",
              "             silent=None, subsample=1, verbosity=1)"
            ]
          },
          "metadata": {
            "tags": []
          },
          "execution_count": 43
        }
      ]
    },
    {
      "cell_type": "markdown",
      "metadata": {
        "id": "Su7a8OvW6YS3",
        "colab_type": "text"
      },
      "source": [
        "##Checking Results"
      ]
    },
    {
      "cell_type": "code",
      "metadata": {
        "id": "Ds-Lb5BG6cDv",
        "colab_type": "code",
        "colab": {}
      },
      "source": [
        "from sklearn.metrics import confusion_matrix, accuracy_score\n",
        "y_pred1 = model1.predict(X_test)\n",
        "y_pred2 = model2.predict(X_test)\n",
        "y_pred3 = model3.predict(X_test)\n",
        "y_pred4 = model4.predict(X_test)\n",
        "\n",
        "#np.set_printoptions(precision=1)\n",
        "#print(np.concatenate((y_pred2.reshape(len(y_pred2), 1), y_test.reshape(len(y_test), 1)), 1))"
      ],
      "execution_count": 44,
      "outputs": []
    },
    {
      "cell_type": "markdown",
      "metadata": {
        "id": "fQ1STic065yx",
        "colab_type": "text"
      },
      "source": [
        "####MAE\n",
        "\n",
        "1. 16130\n",
        "2. 718"
      ]
    },
    {
      "cell_type": "code",
      "metadata": {
        "id": "xA7ZtuRZ698i",
        "colab_type": "code",
        "colab": {
          "base_uri": "https://localhost:8080/",
          "height": 85
        },
        "outputId": "64308229-9655-43ba-82d3-9cf11b019959"
      },
      "source": [
        "from sklearn.metrics import mean_absolute_error\n",
        "mae1 = mean_absolute_error(y_test, y_pred1)\n",
        "mae2 = mean_absolute_error(y_test, y_pred2)\n",
        "mae3 = mean_absolute_error(y_test, y_pred3)\n",
        "mae4 = mean_absolute_error(y_test, y_pred4)\n",
        "\n",
        "print(\"Support Vector Regression MAE: {}\".format(round(mae1, 2)))\n",
        "print(\"Decision Tree MAE: {}\".format(round(mae2, 2)))\n",
        "print(\"Random Forest Regression MAE: {}\".format(round(mae3, 2)))\n",
        "print(\"XGBoost Regression MAE: {}\".format(round(mae4, 2)))"
      ],
      "execution_count": 45,
      "outputs": [
        {
          "output_type": "stream",
          "text": [
            "Support Vector Regression MAE: 55454.7\n",
            "Decision Tree MAE: 1327.09\n",
            "Random Forest Regression MAE: 1033.48\n",
            "XGBoost Regression MAE: 718.46\n"
          ],
          "name": "stdout"
        }
      ]
    },
    {
      "cell_type": "markdown",
      "metadata": {
        "id": "ml0SCCV27GE3",
        "colab_type": "text"
      },
      "source": [
        "####MSE\n",
        "\n",
        "1. 27241\n",
        "2. 1515"
      ]
    },
    {
      "cell_type": "code",
      "metadata": {
        "id": "L1o_QQkS7HUq",
        "colab_type": "code",
        "colab": {
          "base_uri": "https://localhost:8080/",
          "height": 85
        },
        "outputId": "fcce0843-2c9f-44ba-a489-1d7f60ce9200"
      },
      "source": [
        "from sklearn.metrics import mean_squared_error\n",
        "\n",
        "mse1 = mean_squared_error(y_test, y_pred1)\n",
        "rmse1 = math.sqrt(mse1)\n",
        "mse2 = mean_squared_error(y_test, y_pred2)\n",
        "rmse2 = math.sqrt(mse2)\n",
        "mse3 = mean_squared_error(y_test, y_pred3)\n",
        "rmse3 = math.sqrt(mse3)\n",
        "mse4 = mean_squared_error(y_test, y_pred4)\n",
        "rmse4 = math.sqrt(mse4)\n",
        "\n",
        "print(\"Support Vector Regression RMSE: {}\".format(round(rmse1, 2)))\n",
        "print(\"Decision Tree Regression RMSE: {}\".format(round(rmse2, 2)))\n",
        "print(\"Random Forest RMSE: {}\".format(round(rmse3, 2)))\n",
        "print(\"XGBoost RMSE: {}\".format(round(rmse4, 2)))"
      ],
      "execution_count": 46,
      "outputs": [
        {
          "output_type": "stream",
          "text": [
            "Support Vector Regression RMSE: 85001.99\n",
            "Decision Tree Regression RMSE: 9373.95\n",
            "Random Forest RMSE: 6113.18\n",
            "XGBoost RMSE: 1515.27\n"
          ],
          "name": "stdout"
        }
      ]
    },
    {
      "cell_type": "markdown",
      "metadata": {
        "id": "Msw1IUIdyAlN",
        "colab_type": "text"
      },
      "source": [
        "##Visualization "
      ]
    },
    {
      "cell_type": "code",
      "metadata": {
        "id": "VW9Q16C43q40",
        "colab_type": "code",
        "colab": {
          "base_uri": "https://localhost:8080/",
          "height": 472
        },
        "outputId": "7fdcf75e-1299-4dc8-e331-beac88d99bba"
      },
      "source": [
        "regressors = ('SVR', 'Decision Tree', 'Random Forest', 'XGBoost')\n",
        "y_pos = np.arange(len(regressors))\n",
        "performance = [mae1, mae2, mae3, mae4]\n",
        "barChart = plt.barh(y_pos, performance, align='center', alpha=0.5)\n",
        "barChart[1].set_color('r')\n",
        "barChart[2].set_color('y')\n",
        "barChart[3].set_color('g')\n",
        "plt.yticks(y_pos, regressors)\n",
        "plt.xlabel('MAE')\n",
        "plt.title('Error By Regression Model')\n",
        "\n",
        "plt.show()"
      ],
      "execution_count": 93,
      "outputs": [
        {
          "output_type": "display_data",
          "data": {
            "image/png": "[encoded data removed]",
            "text/plain": [
              "<Figure size 640x480 with 1 Axes>"
            ]
          },
          "metadata": {
            "tags": []
          }
        }
      ]
    },
    {
      "cell_type": "code",
      "metadata": {
        "id": "vtjOEV1CyANH",
        "colab_type": "code",
        "colab": {
          "base_uri": "https://localhost:8080/",
          "height": 472
        },
        "outputId": "5c522af1-c239-4610-ec7f-94b57b2a7b3f"
      },
      "source": [
        "regressors = ('Decision Tree', 'Random Forest', 'XGBoost')\n",
        "y_pos = np.arange(len(regressors))\n",
        "performance = [mae2, mae3, mae4]\n",
        "barChart = plt.barh(y_pos, performance, align='center', alpha=0.5)\n",
        "barChart[0].set_color('r')\n",
        "barChart[1].set_color('y')\n",
        "barChart[2].set_color('g')\n",
        "plt.yticks(y_pos, regressors)\n",
        "plt.xlabel('MAE')\n",
        "plt.title('Error By Regression Model (toP 3)')\n",
        "\n",
        "plt.show()"
      ],
      "execution_count": 91,
      "outputs": [
        {
          "output_type": "display_data",
          "data": {
            "image/png": "[encoded data removed]",
            "text/plain": [
              "<Figure size 640x480 with 1 Axes>"
            ]
          },
          "metadata": {
            "tags": []
          }
        }
      ]
    },
    {
      "cell_type": "markdown",
      "metadata": {
        "id": "ffK49oJDI8Ne",
        "colab_type": "text"
      },
      "source": [
        "##Save Model"
      ]
    },
    {
      "cell_type": "code",
      "metadata": {
        "id": "tg1YrKNxI9pm",
        "colab_type": "code",
        "colab": {}
      },
      "source": [
        "#import pickle \n",
        "#from sklearn.externals import joblib\n",
        "#filename = 'house_model.pkl'\n",
        "#joblib.dump(model, filename)"
      ],
      "execution_count": 47,
      "outputs": []
    }
  ]
}