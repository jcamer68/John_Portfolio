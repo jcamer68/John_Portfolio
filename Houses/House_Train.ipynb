{
 "cells": [
  {
   "cell_type": "markdown",
   "metadata": {
    "colab_type": "text",
    "id": "1SIDpEmy4Dr5"
   },
   "source": [
    "##Import Libraries "
   ]
  },
  {
   "cell_type": "code",
   "execution_count": 1,
   "metadata": {
    "colab": {},
    "colab_type": "code",
    "id": "026kFLpw2LBk"
   },
   "outputs": [],
   "source": [
    "import pandas as pd \n",
    "import numpy as np\n",
    "import matplotlib.pyplot as plt\n",
    "import matplotlib.pyplot as plt; plt.rcdefaults()\n",
    "import math"
   ]
  },
  {
   "cell_type": "markdown",
   "metadata": {
    "colab_type": "text",
    "id": "SLbuDwlV4Fhn"
   },
   "source": [
    "##Import Dataset"
   ]
  },
  {
   "cell_type": "code",
   "execution_count": 2,
   "metadata": {
    "colab": {
     "base_uri": "https://localhost:8080/",
     "height": 54
    },
    "colab_type": "code",
    "id": "8f2SHD6r4JmE",
    "outputId": "fffd4134-95ac-4dbb-dcfa-468ba87530b4"
   },
   "outputs": [
    {
     "name": "stdout",
     "output_type": "stream",
     "text": [
      "['LotFrontage', 'Alley', 'MasVnrType', 'MasVnrArea', 'BsmtQual', 'BsmtCond', 'BsmtExposure', 'BsmtFinType1', 'BsmtFinType2', 'Electrical', 'FireplaceQu', 'GarageType', 'GarageYrBlt', 'GarageFinish', 'GarageQual', 'GarageCond', 'PoolQC', 'Fence', 'MiscFeature']\n"
     ]
    }
   ],
   "source": [
    "training = pd.read_csv('train.csv')\n",
    "training.head()\n",
    "training = training.select_dtypes(exclude=['string'])\n",
    "training = training.drop(['Id'], axis=1)\n",
    "\n",
    "missing_cols_train = [col for col in training.columns if training[col].isnull().any()]\n",
    "print(missing_cols_train)\n",
    "\n",
    "training = training.drop(missing_cols_train, axis=1)\n",
    "\n",
    "\n",
    "#training.tail()"
   ]
  },
  {
   "cell_type": "markdown",
   "metadata": {
    "colab_type": "text",
    "id": "p4ibtMmJ439r"
   },
   "source": [
    "##Determining categorical variables"
   ]
  },
  {
   "cell_type": "code",
   "execution_count": 3,
   "metadata": {
    "colab": {
     "base_uri": "https://localhost:8080/",
     "height": 309
    },
    "colab_type": "code",
    "id": "016NwO5C46di",
    "outputId": "dd5dbaad-a0c4-411e-dd81-27379e0f41ea"
   },
   "outputs": [
    {
     "name": "stdout",
     "output_type": "stream",
     "text": [
      "Index(['MSSubClass', 'MSZoning', 'LotArea', 'Street', 'LotShape',\n",
      "       'LandContour', 'Utilities', 'LotConfig', 'LandSlope', 'Neighborhood',\n",
      "       'Condition1', 'Condition2', 'BldgType', 'HouseStyle', 'OverallQual',\n",
      "       'OverallCond', 'YearBuilt', 'YearRemodAdd', 'RoofStyle', 'RoofMatl',\n",
      "       'Exterior1st', 'Exterior2nd', 'ExterQual', 'ExterCond', 'Foundation',\n",
      "       'BsmtFinSF1', 'BsmtFinSF2', 'BsmtUnfSF', 'TotalBsmtSF', 'Heating',\n",
      "       'HeatingQC', 'CentralAir', '1stFlrSF', '2ndFlrSF', 'LowQualFinSF',\n",
      "       'GrLivArea', 'BsmtFullBath', 'BsmtHalfBath', 'FullBath', 'HalfBath',\n",
      "       'BedroomAbvGr', 'KitchenAbvGr', 'KitchenQual', 'TotRmsAbvGrd',\n",
      "       'Functional', 'Fireplaces', 'GarageCars', 'GarageArea', 'PavedDrive',\n",
      "       'WoodDeckSF', 'OpenPorchSF', 'EnclosedPorch', '3SsnPorch',\n",
      "       'ScreenPorch', 'PoolArea', 'MiscVal', 'MoSold', 'YrSold', 'SaleType',\n",
      "       'SaleCondition', 'SalePrice'],\n",
      "      dtype='object')\n",
      "Categorical variables:\n",
      "['MSZoning', 'Street', 'LotShape', 'LandContour', 'Utilities', 'LotConfig', 'LandSlope', 'Neighborhood', 'Condition1', 'Condition2', 'BldgType', 'HouseStyle', 'RoofStyle', 'RoofMatl', 'Exterior1st', 'Exterior2nd', 'ExterQual', 'ExterCond', 'Foundation', 'Heating', 'HeatingQC', 'CentralAir', 'KitchenQual', 'Functional', 'PavedDrive', 'SaleType', 'SaleCondition']\n"
     ]
    }
   ],
   "source": [
    "s = (training.dtypes == 'object')\n",
    "#s = (training.dtypes == 'object' and training.dtypes == 'string')\n",
    "object_cols_train = list(s[s].index)\n",
    "\n",
    "print(training.columns)\n",
    "\n",
    "print('Categorical variables:')\n",
    "print(object_cols_train)"
   ]
  },
  {
   "cell_type": "markdown",
   "metadata": {
    "colab_type": "text",
    "id": "uFmq3ab45OtT"
   },
   "source": [
    "##One Hot Encoder "
   ]
  },
  {
   "cell_type": "code",
   "execution_count": 4,
   "metadata": {
    "colab": {
     "base_uri": "https://localhost:8080/",
     "height": 255
    },
    "colab_type": "code",
    "id": "6pLhF9PX5RyS",
    "outputId": "b2a57611-292f-477f-e5b1-a270f2759fc6"
   },
   "outputs": [
    {
     "name": "stdout",
     "output_type": "stream",
     "text": [
      "      MSSubClass  LotArea  OverallQual  OverallCond  YearBuilt  YearRemodAdd  \\\n",
      "0             60     8450            7            5       2003          2003   \n",
      "1             20     9600            6            8       1976          1976   \n",
      "2             60    11250            7            5       2001          2002   \n",
      "3             70     9550            7            5       1915          1970   \n",
      "4             60    14260            8            5       2000          2000   \n",
      "...          ...      ...          ...          ...        ...           ...   \n",
      "1455          60     7917            6            5       1999          2000   \n",
      "1456          20    13175            6            6       1978          1988   \n",
      "1457          70     9042            7            9       1941          2006   \n",
      "1458          20     9717            5            6       1950          1996   \n",
      "1459          20     9937            5            6       1965          1965   \n",
      "\n",
      "      BsmtFinSF1  BsmtFinSF2  BsmtUnfSF  TotalBsmtSF  ...  173  174  175  176  \\\n",
      "0            706           0        150          856  ...  0.0  0.0  1.0  0.0   \n",
      "1            978           0        284         1262  ...  0.0  0.0  1.0  0.0   \n",
      "2            486           0        434          920  ...  0.0  0.0  1.0  0.0   \n",
      "3            216           0        540          756  ...  0.0  0.0  1.0  1.0   \n",
      "4            655           0        490         1145  ...  0.0  0.0  1.0  0.0   \n",
      "...          ...         ...        ...          ...  ...  ...  ...  ...  ...   \n",
      "1455           0           0        953          953  ...  0.0  0.0  1.0  0.0   \n",
      "1456         790         163        589         1542  ...  0.0  0.0  1.0  0.0   \n",
      "1457         275           0        877         1152  ...  0.0  0.0  1.0  0.0   \n",
      "1458          49        1029          0         1078  ...  0.0  0.0  1.0  0.0   \n",
      "1459         830         290        136         1256  ...  0.0  0.0  1.0  0.0   \n",
      "\n",
      "      177  178  179  180  181  SalePrice  \n",
      "0     0.0  0.0  0.0  1.0  0.0     208500  \n",
      "1     0.0  0.0  0.0  1.0  0.0     181500  \n",
      "2     0.0  0.0  0.0  1.0  0.0     223500  \n",
      "3     0.0  0.0  0.0  0.0  0.0     140000  \n",
      "4     0.0  0.0  0.0  1.0  0.0     250000  \n",
      "...   ...  ...  ...  ...  ...        ...  \n",
      "1455  0.0  0.0  0.0  1.0  0.0     175000  \n",
      "1456  0.0  0.0  0.0  1.0  0.0     210000  \n",
      "1457  0.0  0.0  0.0  1.0  0.0     266500  \n",
      "1458  0.0  0.0  0.0  1.0  0.0     142125  \n",
      "1459  0.0  0.0  0.0  1.0  0.0     147500  \n",
      "\n",
      "[1460 rows x 217 columns]\n"
     ]
    }
   ],
   "source": [
    "from sklearn.preprocessing import OneHotEncoder\n",
    "\n",
    "OH_encoder = OneHotEncoder(handle_unknown='ignore', sparse=False)\n",
    "OH_cols = pd.DataFrame(OH_encoder.fit_transform(training[object_cols_train]))\n",
    "\n",
    "OH_cols.index = training.index\n",
    "\n",
    "num_training = training.drop(object_cols_train, axis=1)\n",
    "\n",
    "money = training.SalePrice\n",
    "training = training.drop(['SalePrice'], axis=1)\n",
    "\n",
    "training = pd.concat([num_training, OH_cols], axis=1)\n",
    "\n",
    "training = pd.concat([training, money], axis=1)\n",
    "print(training)"
   ]
  },
  {
   "cell_type": "markdown",
   "metadata": {
    "colab_type": "text",
    "id": "pbRSixbU52cu"
   },
   "source": [
    "##Splitting Data"
   ]
  },
  {
   "cell_type": "code",
   "execution_count": 5,
   "metadata": {
    "colab": {},
    "colab_type": "code",
    "id": "DLRP4blP6Eb8"
   },
   "outputs": [],
   "source": [
    "X = training.iloc[:,:-1].values\n",
    "y = training.iloc[:,-1].values"
   ]
  },
  {
   "cell_type": "code",
   "execution_count": 6,
   "metadata": {
    "colab": {},
    "colab_type": "code",
    "id": "qmZE2RGG54uk"
   },
   "outputs": [],
   "source": [
    "from sklearn.model_selection import train_test_split\n",
    "X_train, X_test, y_train, y_test = train_test_split(X, y, train_size=0.8, test_size = 0.2, random_state = 0)"
   ]
  },
  {
   "cell_type": "markdown",
   "metadata": {
    "colab_type": "text",
    "id": "P1zTe0um6Ms7"
   },
   "source": [
    "##Training Models \n",
    "\n",
    "1. Support Vector Regression\n",
    "2. Decision Tree Regression\n",
    "3. Random Forest Regression\n",
    "4. XGBoost"
   ]
  },
  {
   "cell_type": "code",
   "execution_count": 7,
   "metadata": {
    "colab": {
     "base_uri": "https://localhost:8080/",
     "height": 51
    },
    "colab_type": "code",
    "id": "pwUXpfGttS3N",
    "outputId": "1c02250f-a022-4a1b-c010-3830291f7b85"
   },
   "outputs": [
    {
     "data": {
      "text/plain": [
       "SVR()"
      ]
     },
     "execution_count": 7,
     "metadata": {},
     "output_type": "execute_result"
    }
   ],
   "source": [
    "from sklearn.svm import SVR\n",
    "model1 = SVR(kernel = 'rbf')\n",
    "model1.fit(X_train, y_train)"
   ]
  },
  {
   "cell_type": "code",
   "execution_count": 8,
   "metadata": {
    "colab": {
     "base_uri": "https://localhost:8080/",
     "height": 119
    },
    "colab_type": "code",
    "id": "QDAEKPikuIro",
    "outputId": "94519afc-f2bc-4a82-8497-05536f09b3ec"
   },
   "outputs": [
    {
     "data": {
      "text/plain": [
       "DecisionTreeRegressor(random_state=0)"
      ]
     },
     "execution_count": 8,
     "metadata": {},
     "output_type": "execute_result"
    }
   ],
   "source": [
    "from sklearn.tree import DecisionTreeRegressor\n",
    "model2 = DecisionTreeRegressor(random_state = 0)\n",
    "model2.fit(X_train, y_train)"
   ]
  },
  {
   "cell_type": "code",
   "execution_count": 9,
   "metadata": {
    "colab": {
     "base_uri": "https://localhost:8080/",
     "height": 136
    },
    "colab_type": "code",
    "id": "z9NSaU9rvGCS",
    "outputId": "166da28e-fe43-430e-a7d4-6d706420fa03"
   },
   "outputs": [
    {
     "data": {
      "text/plain": [
       "RandomForestRegressor(n_estimators=10, random_state=0)"
      ]
     },
     "execution_count": 9,
     "metadata": {},
     "output_type": "execute_result"
    }
   ],
   "source": [
    "from sklearn.ensemble import RandomForestRegressor\n",
    "model3 = RandomForestRegressor(n_estimators = 10, random_state = 0)\n",
    "model3.fit(X_train, y_train)"
   ]
  },
  {
   "cell_type": "code",
   "execution_count": 10,
   "metadata": {
    "colab": {
     "base_uri": "https://localhost:8080/",
     "height": 173
    },
    "colab_type": "code",
    "id": "Xoe6a9eL6PJi",
    "outputId": "e1c78783-c9bf-4305-bc5b-93a1193a167c"
   },
   "outputs": [
    {
     "name": "stderr",
     "output_type": "stream",
     "text": [
      "/Users/johnnycameron/opt/anaconda3/lib/python3.7/site-packages/dask/dataframe/utils.py:14: FutureWarning: pandas.util.testing is deprecated. Use the functions in the public API at pandas.testing instead.\n",
      "  import pandas.util.testing as tm\n"
     ]
    },
    {
     "data": {
      "text/plain": [
       "XGBRegressor(base_score=0.5, booster='gbtree', colsample_bylevel=1,\n",
       "             colsample_bynode=1, colsample_bytree=1, gamma=0, gpu_id=-1,\n",
       "             importance_type='gain', interaction_constraints='',\n",
       "             learning_rate=0.1, max_delta_step=0, max_depth=6,\n",
       "             min_child_weight=1, missing=nan, monotone_constraints='()',\n",
       "             n_estimators=1000, n_jobs=0, num_parallel_tree=1, random_state=0,\n",
       "             reg_alpha=0, reg_lambda=1, scale_pos_weight=1, subsample=1,\n",
       "             tree_method='exact', validate_parameters=1, verbosity=None)"
      ]
     },
     "execution_count": 10,
     "metadata": {},
     "output_type": "execute_result"
    }
   ],
   "source": [
    "from xgboost import XGBRegressor as xgb\n",
    "model4 = xgb(n_estimators=1000, learning_rate=0.1)\n",
    "model4.fit(X_train, y_train)"
   ]
  },
  {
   "cell_type": "markdown",
   "metadata": {
    "colab_type": "text",
    "id": "Su7a8OvW6YS3"
   },
   "source": [
    "##Checking Results"
   ]
  },
  {
   "cell_type": "code",
   "execution_count": 11,
   "metadata": {
    "colab": {},
    "colab_type": "code",
    "id": "Ds-Lb5BG6cDv"
   },
   "outputs": [],
   "source": [
    "from sklearn.metrics import confusion_matrix, accuracy_score\n",
    "y_pred1 = model1.predict(X_test)\n",
    "y_pred2 = model2.predict(X_test)\n",
    "y_pred3 = model3.predict(X_test)\n",
    "y_pred4 = model4.predict(X_test)\n",
    "\n",
    "#np.set_printoptions(precision=1)\n",
    "#print(np.concatenate((y_pred2.reshape(len(y_pred2), 1), y_test.reshape(len(y_test), 1)), 1))"
   ]
  },
  {
   "cell_type": "markdown",
   "metadata": {
    "colab_type": "text",
    "id": "fQ1STic065yx"
   },
   "source": [
    "####MAE\n",
    "\n",
    "1. 16130\n",
    "2. 718"
   ]
  },
  {
   "cell_type": "code",
   "execution_count": 12,
   "metadata": {
    "colab": {
     "base_uri": "https://localhost:8080/",
     "height": 85
    },
    "colab_type": "code",
    "id": "xA7ZtuRZ698i",
    "outputId": "64308229-9655-43ba-82d3-9cf11b019959"
   },
   "outputs": [
    {
     "name": "stdout",
     "output_type": "stream",
     "text": [
      "Support Vector Regression MAE: 55454.7\n",
      "Decision Tree MAE: 1327.09\n",
      "Random Forest Regression MAE: 1033.48\n",
      "XGBoost Regression MAE: 560.77\n"
     ]
    }
   ],
   "source": [
    "from sklearn.metrics import mean_absolute_error\n",
    "mae1 = mean_absolute_error(y_test, y_pred1)\n",
    "mae2 = mean_absolute_error(y_test, y_pred2)\n",
    "mae3 = mean_absolute_error(y_test, y_pred3)\n",
    "mae4 = mean_absolute_error(y_test, y_pred4)\n",
    "\n",
    "print(\"Support Vector Regression MAE: {}\".format(round(mae1, 2)))\n",
    "print(\"Decision Tree MAE: {}\".format(round(mae2, 2)))\n",
    "print(\"Random Forest Regression MAE: {}\".format(round(mae3, 2)))\n",
    "print(\"XGBoost Regression MAE: {}\".format(round(mae4, 2)))"
   ]
  },
  {
   "cell_type": "markdown",
   "metadata": {
    "colab_type": "text",
    "id": "ml0SCCV27GE3"
   },
   "source": [
    "####MSE\n",
    "\n",
    "1. 27241\n",
    "2. 1515"
   ]
  },
  {
   "cell_type": "code",
   "execution_count": 13,
   "metadata": {
    "colab": {
     "base_uri": "https://localhost:8080/",
     "height": 85
    },
    "colab_type": "code",
    "id": "L1o_QQkS7HUq",
    "outputId": "fcce0843-2c9f-44ba-a489-1d7f60ce9200"
   },
   "outputs": [
    {
     "name": "stdout",
     "output_type": "stream",
     "text": [
      "Support Vector Regression RMSE: 85001.99\n",
      "Decision Tree Regression RMSE: 9373.95\n",
      "Random Forest RMSE: 6113.18\n",
      "XGBoost RMSE: 1343.23\n"
     ]
    }
   ],
   "source": [
    "from sklearn.metrics import mean_squared_error\n",
    "\n",
    "mse1 = mean_squared_error(y_test, y_pred1)\n",
    "rmse1 = math.sqrt(mse1)\n",
    "mse2 = mean_squared_error(y_test, y_pred2)\n",
    "rmse2 = math.sqrt(mse2)\n",
    "mse3 = mean_squared_error(y_test, y_pred3)\n",
    "rmse3 = math.sqrt(mse3)\n",
    "mse4 = mean_squared_error(y_test, y_pred4)\n",
    "rmse4 = math.sqrt(mse4)\n",
    "\n",
    "print(\"Support Vector Regression RMSE: {}\".format(round(rmse1, 2)))\n",
    "print(\"Decision Tree Regression RMSE: {}\".format(round(rmse2, 2)))\n",
    "print(\"Random Forest RMSE: {}\".format(round(rmse3, 2)))\n",
    "print(\"XGBoost RMSE: {}\".format(round(rmse4, 2)))"
   ]
  },
  {
   "cell_type": "markdown",
   "metadata": {
    "colab_type": "text",
    "id": "Msw1IUIdyAlN"
   },
   "source": [
    "##Visualization "
   ]
  },
  {
   "cell_type": "code",
   "execution_count": 26,
   "metadata": {
    "colab": {
     "base_uri": "https://localhost:8080/",
     "height": 472
    },
    "colab_type": "code",
    "id": "VW9Q16C43q40",
    "outputId": "7fdcf75e-1299-4dc8-e331-beac88d99bba"
   },
   "outputs": [
    {
     "data": {
      "image/png": "[encoded data removed]",
      "text/plain": [
       "<Figure size 640x480 with 1 Axes>"
      ]
     },
     "metadata": {},
     "output_type": "display_data"
    }
   ],
   "source": [
    "regressors = ('SVR', 'Decision Tree', 'Random Forest', 'XGBoost')\n",
    "y_pos = np.arange(len(regressors))\n",
    "performance = [mae1, mae2, mae3, mae4]\n",
    "barChart = plt.barh(y_pos, performance, align='center', alpha=0.5)\n",
    "barChart[1].set_color('r')\n",
    "barChart[2].set_color('y')\n",
    "barChart[3].set_color('g')\n",
    "plt.yticks(y_pos, regressors)\n",
    "plt.xlabel('MAE')\n",
    "plt.title('Error By Regression Model')\n",
    "\n",
    "plt.savefig(fname='Regressor1_MAE.png', format='png', bbox_inches='tight')\n",
    "plt.show()"
   ]
  },
  {
   "cell_type": "code",
   "execution_count": 27,
   "metadata": {
    "colab": {
     "base_uri": "https://localhost:8080/",
     "height": 472
    },
    "colab_type": "code",
    "id": "vtjOEV1CyANH",
    "outputId": "5c522af1-c239-4610-ec7f-94b57b2a7b3f"
   },
   "outputs": [
    {
     "data": {
      "image/png": "[encoded data removed]",
      "text/plain": [
       "<Figure size 640x480 with 1 Axes>"
      ]
     },
     "metadata": {},
     "output_type": "display_data"
    }
   ],
   "source": [
    "regressors = ('Decision Tree', 'Random Forest', 'XGBoost')\n",
    "y_pos = np.arange(len(regressors))\n",
    "performance = [mae2, mae3, mae4]\n",
    "barChart = plt.barh(y_pos, performance, align='center', alpha=0.5)\n",
    "barChart[0].set_color('r')\n",
    "barChart[1].set_color('y')\n",
    "barChart[2].set_color('g')\n",
    "plt.yticks(y_pos, regressors)\n",
    "plt.xlabel('MAE')\n",
    "plt.title('Error By Regression Model (Top 3)')\n",
    "\n",
    "plt.savefig(fname='Regressor2_MAE.png', format='png', bbox_inches='tight')\n",
    "plt.show()"
   ]
  },
  {
   "cell_type": "markdown",
   "metadata": {
    "colab_type": "text",
    "id": "ffK49oJDI8Ne"
   },
   "source": [
    "##Save Model"
   ]
  },
  {
   "cell_type": "code",
   "execution_count": 47,
   "metadata": {
    "colab": {},
    "colab_type": "code",
    "id": "tg1YrKNxI9pm"
   },
   "outputs": [],
   "source": [
    "#import pickle \n",
    "#from sklearn.externals import joblib\n",
    "#filename = 'house_model.pkl'\n",
    "#joblib.dump(model, filename)"
   ]
  }
 ],
 "metadata": {
  "colab": {
   "name": "House_Train.ipynb",
   "provenance": []
  },
  "kernelspec": {
   "display_name": "Python 3",
   "language": "python",
   "name": "python3"
  },
  "language_info": {
   "codemirror_mode": {
    "name": "ipython",
    "version": 3
   },
   "file_extension": ".py",
   "mimetype": "text/x-python",
   "name": "python",
   "nbconvert_exporter": "python",
   "pygments_lexer": "ipython3",
   "version": "3.7.4"
  }
 },
 "nbformat": 4,
 "nbformat_minor": 1
}
